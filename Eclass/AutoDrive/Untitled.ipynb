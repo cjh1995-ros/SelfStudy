{
 "cells": [
  {
   "cell_type": "markdown",
   "id": "ef4a28e7-1e52-4d46-a63f-2f282cdb0714",
   "metadata": {},
   "source": [
    "# 3. 보너스 문제\n",
    "클러스터링된 결과에 대해 Association을 수행하고, 트래킹을 수행하여 **위치, 방위각, 속도**를 추정하라. 사용된 방법론은 보고서에 정리하라. 그리고 추정된 결과를 별도의 파일로 추출/저장하여 제출하라\n",
    "\n",
    "---\n",
    "## EKF, UKF를 통해 추정해보기."
   ]
  },
  {
   "cell_type": "code",
   "execution_count": 1,
   "id": "0f7a7bfa-677c-48d7-a29a-9c1b1c70e3ee",
   "metadata": {},
   "outputs": [],
   "source": [
    "import numpy as np\n",
    "from scipy.io import loadmat"
   ]
  },
  {
   "cell_type": "code",
   "execution_count": 34,
   "id": "13e2f834-4d38-40dc-a781-bd298bece026",
   "metadata": {},
   "outputs": [],
   "source": [
    "data_name = \"20220331T160645_ProjectData.mat\"\n",
    "datas = loadmat(data_name)\n",
    "# list(datas.keys())"
   ]
  },
  {
   "cell_type": "code",
   "execution_count": 35,
   "id": "803ae83b-fd1d-4f2d-9a61-31f627579a14",
   "metadata": {},
   "outputs": [],
   "source": [
    "# dict에서 다음과 같이 필요한 값들을 불러온다.\n",
    "# datas[ax][0][time_stack]\n",
    "time_stack, = datas['Ax_stack'][0].shape\n",
    "\n",
    "car_datas = []\n",
    "for t in range(time_stack):\n",
    "    vx = datas['Vx_stack'][0][t] \n",
    "    ax = datas['Ax_stack'][0][t] \n",
    "    ay = datas['Ay_stack'][0][t] \n",
    "    sas = datas['SAS_Angle_stack'][0][t] \n",
    "    yaw = datas['YAW_RATE_stack'][0][t]\n",
    "    \n",
    "    car_data = np.array([vx, ax, ay, sas, yaw], dtype=np.float32)\n",
    "    car_datas.append(car_data)\n",
    "car_datas = np.array(car_datas)"
   ]
  },
  {
   "cell_type": "markdown",
   "id": "54f1cd99-e05b-472c-847e-fbaae4734738",
   "metadata": {},
   "source": [
    "### 모델 예측하기\n",
    "\n",
    "속도, 가속도, 각속도를 반영한 **차량의 모델**을 구축한다. 관련 식을 찾는 것이 중요하다. 위 모델을 구축하면 \n",
    "A matrix를 구할 수 있다. 이에 따라 공분산 R을 크기를 맞추어 준다. \n",
    "\n",
    "이후 예측 과정에서는 로봇의 해당 위치에서 **자코비안 matrix를 구축**한다. 그렇게 H matrix를 만들고 나면, 그에 따른 Q matrix 를 만들어 주면 되겠다.\n",
    "\n",
    "* input = x, vx, ax, y, vy, ay, theta, v_theta\n",
    "* z_meas = x, vx, y, vy, theta\n"
   ]
  },
  {
   "cell_type": "code",
   "execution_count": 29,
   "id": "d79f5394-19f9-4170-b316-7aead16d6b5d",
   "metadata": {},
   "outputs": [
    {
     "data": {
      "text/plain": [
       "(594,)"
      ]
     },
     "execution_count": 29,
     "metadata": {},
     "output_type": "execute_result"
    }
   ],
   "source": []
  },
  {
   "cell_type": "code",
   "execution_count": null,
   "id": "3136560a-7f6d-4324-8dc6-abb56b40b0f3",
   "metadata": {},
   "outputs": [],
   "source": []
  }
 ],
 "metadata": {
  "kernelspec": {
   "display_name": "Python 3 (ipykernel)",
   "language": "python",
   "name": "python3"
  },
  "language_info": {
   "codemirror_mode": {
    "name": "ipython",
    "version": 3
   },
   "file_extension": ".py",
   "mimetype": "text/x-python",
   "name": "python",
   "nbconvert_exporter": "python",
   "pygments_lexer": "ipython3",
   "version": "3.9.10"
  }
 },
 "nbformat": 4,
 "nbformat_minor": 5
}
