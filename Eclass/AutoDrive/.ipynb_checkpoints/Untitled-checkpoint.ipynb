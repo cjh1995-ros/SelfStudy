{
 "cells": [
  {
   "cell_type": "markdown",
   "id": "ef4a28e7-1e52-4d46-a63f-2f282cdb0714",
   "metadata": {},
   "source": [
    "# 3. 보너스 문제\n",
    "클러스터링된 결과에 대해 Association을 수행하고, 트래킹을 수행하여 **위치, 방위각, 속도**를 추정하라. 사용된 방법론은 보고서에 정리하라. 그리고 추정된 결과를 별도의 파일로 추출/저장하여 제출하라\n",
    "\n",
    "---\n",
    "## 3-1. EKF, UKF를 통해 추정해보기."
   ]
  },
  {
   "cell_type": "code",
   "execution_count": 1,
   "id": "0f7a7bfa-677c-48d7-a29a-9c1b1c70e3ee",
   "metadata": {},
   "outputs": [],
   "source": [
    "import numpy as np\n",
    "from scipy.io import loadmat"
   ]
  },
  {
   "cell_type": "code",
   "execution_count": 34,
   "id": "13e2f834-4d38-40dc-a781-bd298bece026",
   "metadata": {},
   "outputs": [],
   "source": [
    "data_name = \"20220331T160645_ProjectData.mat\"\n",
    "datas = loadmat(data_name)\n",
    "# list(datas.keys())"
   ]
  },
  {
   "cell_type": "code",
   "execution_count": 35,
   "id": "803ae83b-fd1d-4f2d-9a61-31f627579a14",
   "metadata": {},
   "outputs": [],
   "source": [
    "# dict에서 다음과 같이 필요한 값들을 불러온다.\n",
    "# datas[ax][0][time_stack]\n",
    "time_stack, = datas['Ax_stack'][0].shape\n",
    "\n",
    "car_datas = []\n",
    "for t in range(time_stack):\n",
    "    vx = datas['Vx_stack'][0][t] \n",
    "    ax = datas['Ax_stack'][0][t] \n",
    "    ay = datas['Ay_stack'][0][t] \n",
    "    sas = datas['SAS_Angle_stack'][0][t] \n",
    "    yaw = datas['YAW_RATE_stack'][0][t]\n",
    "    \n",
    "    car_data = np.array([vx, ax, ay, sas, yaw], dtype=np.float32)\n",
    "    car_datas.append(car_data)\n",
    "car_datas = np.array(car_datas)"
   ]
  },
  {
   "cell_type": "code",
   "execution_count": 23,
   "id": "6e60a7cb-5df4-44af-a10e-5dd480ed53da",
   "metadata": {},
   "outputs": [
    {
     "ename": "KeyError",
     "evalue": "0.69",
     "output_type": "error",
     "traceback": [
      "\u001b[0;31m---------------------------------------------------------------------------\u001b[0m",
      "\u001b[0;31mKeyError\u001b[0m                                  Traceback (most recent call last)",
      "\u001b[0;32m/tmp/ipykernel_92102/927997531.py\u001b[0m in \u001b[0;36m<module>\u001b[0;34m\u001b[0m\n\u001b[0;32m----> 1\u001b[0;31m \u001b[0mdatas\u001b[0m\u001b[0;34m[\u001b[0m\u001b[0max\u001b[0m\u001b[0;34m]\u001b[0m\u001b[0;34m[\u001b[0m\u001b[0;36m0\u001b[0m\u001b[0;34m]\u001b[0m\u001b[0;34m.\u001b[0m\u001b[0mshape\u001b[0m\u001b[0;34m\u001b[0m\u001b[0;34m\u001b[0m\u001b[0m\n\u001b[0m",
      "\u001b[0;31mKeyError\u001b[0m: 0.69"
     ]
    }
   ],
   "source": [
    "dt = 0.1\n",
    "A = np.array([[1., dt, (dt ** 2) / 2.], \n",
    "             [ 0., 1., dt], \n",
    "             [0, 0, 1.]], dtype=np.float32) # x, vx, ax, y, vy, ay\n",
    "\n",
    "Q = np.array([[0.1, 0, 0],\n",
    "              [0, 0,1, 0],\n",
    "              [0, 0, 0.1]], dtype=np.float32)\n",
    "\n",
    "R = np.array([[0.1, 0.1, 0.1]], dtype=np.float32)\n",
    "\n",
    "A_theta = np.array([[1, dt],\n",
    "                   [0, 1]], dtype=np.float32) # theta, v_theta\n",
    "\n",
    "\n",
    "Q_theta = np.array([[1, 0],\n",
    "                    [0, 1]], dtype=np.float32)\n",
    "\n",
    "R_theta = np.array([[0.1, 0.1]], dtype=np.float32)\n",
    "\n",
    "def EKF():\n",
    "    pass\n"
   ]
  },
  {
   "cell_type": "code",
   "execution_count": 29,
   "id": "d79f5394-19f9-4170-b316-7aead16d6b5d",
   "metadata": {},
   "outputs": [
    {
     "data": {
      "text/plain": [
       "(594,)"
      ]
     },
     "execution_count": 29,
     "metadata": {},
     "output_type": "execute_result"
    }
   ],
   "source": []
  },
  {
   "cell_type": "code",
   "execution_count": null,
   "id": "3136560a-7f6d-4324-8dc6-abb56b40b0f3",
   "metadata": {},
   "outputs": [],
   "source": []
  }
 ],
 "metadata": {
  "kernelspec": {
   "display_name": "Python 3 (ipykernel)",
   "language": "python",
   "name": "python3"
  },
  "language_info": {
   "codemirror_mode": {
    "name": "ipython",
    "version": 3
   },
   "file_extension": ".py",
   "mimetype": "text/x-python",
   "name": "python",
   "nbconvert_exporter": "python",
   "pygments_lexer": "ipython3",
   "version": "3.9.10"
  }
 },
 "nbformat": 4,
 "nbformat_minor": 5
}
