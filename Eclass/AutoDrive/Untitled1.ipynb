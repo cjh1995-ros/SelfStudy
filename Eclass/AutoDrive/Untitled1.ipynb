{
 "cells": [
  {
   "cell_type": "code",
   "execution_count": 1,
   "id": "a28018c9-c2b1-47aa-8864-d8d29164a2ae",
   "metadata": {},
   "outputs": [],
   "source": [
    "from sklearn.neighbors import NearestNeighbors\n",
    "import numpy as np"
   ]
  },
  {
   "cell_type": "code",
   "execution_count": 2,
   "id": "cb1ef194-f629-4e59-a1dd-aa60d00e72a5",
   "metadata": {},
   "outputs": [],
   "source": [
    "x = np.array([[-1, -1], [-1, 1], [2, 1], [3, -2]])\n",
    "nbrs = NearestNeighbors(n_neighbors=2, algorithm='ball_tree').fit(x)"
   ]
  },
  {
   "cell_type": "code",
   "execution_count": 3,
   "id": "d97d677e-1130-4534-a162-d5704d395efb",
   "metadata": {},
   "outputs": [],
   "source": [
    "distance, indices = nbrs.kneighbors(x)"
   ]
  },
  {
   "cell_type": "code",
   "execution_count": 4,
   "id": "4733bb15-343d-4d6e-ad12-9f12528f8810",
   "metadata": {},
   "outputs": [
    {
     "data": {
      "text/plain": [
       "array([[0, 1],\n",
       "       [1, 0],\n",
       "       [2, 1],\n",
       "       [3, 2]])"
      ]
     },
     "execution_count": 4,
     "metadata": {},
     "output_type": "execute_result"
    }
   ],
   "source": [
    "indices"
   ]
  },
  {
   "cell_type": "code",
   "execution_count": 5,
   "id": "309bb834-7da6-4453-91f1-7d64e4988d30",
   "metadata": {},
   "outputs": [
    {
     "data": {
      "text/plain": [
       "array([[0.        , 2.        ],\n",
       "       [0.        , 2.        ],\n",
       "       [0.        , 3.        ],\n",
       "       [0.        , 3.16227766]])"
      ]
     },
     "execution_count": 5,
     "metadata": {},
     "output_type": "execute_result"
    }
   ],
   "source": [
    "distance"
   ]
  },
  {
   "cell_type": "code",
   "execution_count": 6,
   "id": "96525b1e-bec7-4f64-b167-333e9526f931",
   "metadata": {},
   "outputs": [],
   "source": [
    "from sklearn.neighbors import KDTree"
   ]
  },
  {
   "cell_type": "code",
   "execution_count": 9,
   "id": "f6615a1d-129b-4bcb-9669-e7feee967c7d",
   "metadata": {},
   "outputs": [
    {
     "data": {
      "text/plain": [
       "(array([[0.        , 1.        ],\n",
       "        [0.        , 1.        ],\n",
       "        [0.        , 1.41421356],\n",
       "        [0.        , 1.        ],\n",
       "        [0.        , 1.        ],\n",
       "        [0.        , 1.41421356]]),\n",
       " array([[0, 1],\n",
       "        [1, 0],\n",
       "        [2, 1],\n",
       "        [3, 4],\n",
       "        [4, 3],\n",
       "        [5, 4]]))"
      ]
     },
     "execution_count": 9,
     "metadata": {},
     "output_type": "execute_result"
    }
   ],
   "source": [
    "X = np.array([[-1, -1], [-2, -1], [-3, -2], [1, 1], [2, 1], [3, 2]])\n",
    "kdt = KDTree(X, leaf_size=30, metric='euclidean')\n",
    "kdt.query(X, k=2, return_distance=True)"
   ]
  },
  {
   "cell_type": "code",
   "execution_count": null,
   "id": "443a63c7-5db3-4775-9c0c-4a0fbeaefc40",
   "metadata": {},
   "outputs": [],
   "source": []
  }
 ],
 "metadata": {
  "kernelspec": {
   "display_name": "Python 3 (ipykernel)",
   "language": "python",
   "name": "python3"
  },
  "language_info": {
   "codemirror_mode": {
    "name": "ipython",
    "version": 3
   },
   "file_extension": ".py",
   "mimetype": "text/x-python",
   "name": "python",
   "nbconvert_exporter": "python",
   "pygments_lexer": "ipython3",
   "version": "3.9.10"
  }
 },
 "nbformat": 4,
 "nbformat_minor": 5
}
