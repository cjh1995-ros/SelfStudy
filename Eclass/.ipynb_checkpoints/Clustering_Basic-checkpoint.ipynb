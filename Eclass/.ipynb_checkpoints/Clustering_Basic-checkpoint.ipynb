{
 "cells": [
  {
   "cell_type": "code",
   "execution_count": 1,
   "id": "baf24648",
   "metadata": {},
   "outputs": [],
   "source": [
    "from sklearn.cluster import kmeans_plusplus\n",
    "from sklearn.datasets import make_blobs\n",
    "import numpy as np\n",
    "import matplotlib.pyplot as plt"
   ]
  },
  {
   "cell_type": "code",
   "execution_count": 6,
   "id": "7e690aed",
   "metadata": {},
   "outputs": [],
   "source": [
    "n_samples = 5000\n",
    "n_components = 5"
   ]
  },
  {
   "cell_type": "code",
   "execution_count": 7,
   "id": "df6e1d98",
   "metadata": {},
   "outputs": [],
   "source": [
    "X, y_true = make_blobs(\n",
    "    n_samples=n_samples, centers=n_components, cluster_std=0.6, random_state=0\n",
    ")"
   ]
  },
  {
   "cell_type": "code",
   "execution_count": 8,
   "id": "3eae04a8",
   "metadata": {},
   "outputs": [
    {
     "name": "stdout",
     "output_type": "stream",
     "text": [
      "X shape: (5000, 2)\n",
      "X[0] [-1.34358777  7.5269852 ]\n",
      "y_true shape: (5000,)\n",
      "y_true[0] 3\n"
     ]
    }
   ],
   "source": [
    "print(\"X shape:\", X.shape)\n",
    "print(\"X[0]\", X[0])\n",
    "print(\"y_true shape:\", y_true.shape)\n",
    "print(\"y_true[0]\", y_true[0])"
   ]
  },
  {
   "cell_type": "code",
   "execution_count": 13,
   "id": "f8ae7652",
   "metadata": {},
   "outputs": [],
   "source": [
    "X = X[:, ::-1]\n",
    "centers_init, indices = kmeans_plusplus(X, n_clusters=n_components, random_state=0)"
   ]
  },
  {
   "cell_type": "code",
   "execution_count": 15,
   "id": "1b10ccbb",
   "metadata": {},
   "outputs": [
    {
     "data": {
      "image/png": "[encoded data removed]",
      "text/plain": [
       "<Figure size 432x288 with 1 Axes>"
      ]
     },
     "metadata": {},
     "output_type": "display_data"
    }
   ],
   "source": [
    "colors = [\"#4EACC5\", \"#FF9C34\", \"#4E9A06\", \"m\", \"r\"]\n",
    "\n",
    "for k, col in enumerate(colors):\n",
    "    cluster_data = y_true == k # True or False를 의미함.\n",
    "    plt.scatter(X[cluster_data, 0], X[cluster_data, 1], c=col, marker=\".\", s=10)\n",
    "\n",
    "plt.scatter(centers_init[:, 0], centers_init[:, 1], c=\"b\", s=50)\n",
    "plt.title(\"K-Means++ Initialization\")\n",
    "plt.xticks([])\n",
    "plt.yticks([])\n",
    "plt.show()"
   ]
  },
  {
   "cell_type": "markdown",
   "id": "af856be4",
   "metadata": {},
   "source": [
    "# My Version Clustering"
   ]
  },
  {
   "cell_type": "code",
   "execution_count": 23,
   "id": "c1af0a40",
   "metadata": {},
   "outputs": [],
   "source": [
    "class MeanPoint2D():\n",
    "    def __init__(self, x_y, num):\n",
    "        self.num = num\n",
    "        self.x = np.full(self.num, x_y[0], dtype=np.float32)\n",
    "        self.y = np.full(self.num, x_y[1], dtype=np.float32)\n",
    "\n",
    "    def gen_noisy_data(self, sigma):\n",
    "        self.x += np.random.normal(0, sigma, self.num)\n",
    "        self.y += np.random.normal(0, sigma, self.num)\n",
    "\n",
    "    def get_datas(self):\n",
    "        x = self.x[:, np.newaxis].T\n",
    "        y = self.y[:, np.newaxis].T\n",
    "        \n",
    "        return np.hstack((x, y))\n",
    "\n",
    "def draw_points(point, params):\n",
    "    for i, p in enumerate(point):\n",
    "        plt.plot(p.x, p.y, '.')\n",
    "    plt.xlim(params[\"xlim\"])\n",
    "    plt.ylim(params[\"ylim\"])\n",
    "    \n",
    "    plt.show()"
   ]
  },
  {
   "cell_type": "code",
   "execution_count": 24,
   "id": "acb0553a",
   "metadata": {},
   "outputs": [],
   "source": [
    "draw_params = {\n",
    "    \"xlim\": [-10, 10],\n",
    "    \"ylim\": [-10, 10],\n",
    "    \"point_num\": 100,\n",
    "    \"sigma\": 0.5,\n",
    "}\n",
    "mean_points = [\n",
    "    (0, 0), \n",
    "    (2, 3),\n",
    "    (-4, 2),\n",
    "    (-3, -3),\n",
    "    (5, -7)\n",
    "]\n",
    "drawing_points = []\n",
    "float_datasets = []"
   ]
  },
  {
   "cell_type": "code",
   "execution_count": 25,
   "id": "3c2f3950",
   "metadata": {},
   "outputs": [
    {
     "ename": "TypeError",
     "evalue": "_vhstack_dispatcher() takes 1 positional argument but 2 were given",
     "output_type": "error",
     "traceback": [
      "\u001b[0;31m---------------------------------------------------------------------------\u001b[0m",
      "\u001b[0;31mTypeError\u001b[0m                                 Traceback (most recent call last)",
      "\u001b[0;32m/tmp/ipykernel_100885/3573406807.py\u001b[0m in \u001b[0;36m<module>\u001b[0;34m\u001b[0m\n\u001b[1;32m      1\u001b[0m \u001b[0mp\u001b[0m \u001b[0;34m=\u001b[0m \u001b[0mMeanPoint2D\u001b[0m\u001b[0;34m(\u001b[0m\u001b[0;34m(\u001b[0m\u001b[0;36m0\u001b[0m\u001b[0;34m,\u001b[0m\u001b[0;36m0\u001b[0m\u001b[0;34m)\u001b[0m\u001b[0;34m,\u001b[0m \u001b[0mdraw_params\u001b[0m\u001b[0;34m[\u001b[0m\u001b[0;34m\"point_num\"\u001b[0m\u001b[0;34m]\u001b[0m\u001b[0;34m)\u001b[0m\u001b[0;34m\u001b[0m\u001b[0;34m\u001b[0m\u001b[0m\n\u001b[1;32m      2\u001b[0m \u001b[0mp\u001b[0m\u001b[0;34m.\u001b[0m\u001b[0mgen_noisy_data\u001b[0m\u001b[0;34m(\u001b[0m\u001b[0mdraw_params\u001b[0m\u001b[0;34m[\u001b[0m\u001b[0;34m\"sigma\"\u001b[0m\u001b[0;34m]\u001b[0m\u001b[0;34m)\u001b[0m\u001b[0;34m\u001b[0m\u001b[0;34m\u001b[0m\u001b[0m\n\u001b[0;32m----> 3\u001b[0;31m \u001b[0mx\u001b[0m \u001b[0;34m=\u001b[0m \u001b[0mp\u001b[0m\u001b[0;34m.\u001b[0m\u001b[0mget_datas\u001b[0m\u001b[0;34m(\u001b[0m\u001b[0;34m)\u001b[0m\u001b[0;34m\u001b[0m\u001b[0;34m\u001b[0m\u001b[0m\n\u001b[0m\u001b[1;32m      4\u001b[0m \u001b[0mx\u001b[0m\u001b[0;34m.\u001b[0m\u001b[0mshape\u001b[0m\u001b[0;34m\u001b[0m\u001b[0;34m\u001b[0m\u001b[0m\n\u001b[1;32m      5\u001b[0m \u001b[0;31m# for i, point in enumerate(mean_points):\u001b[0m\u001b[0;34m\u001b[0m\u001b[0;34m\u001b[0m\u001b[0m\n",
      "\u001b[0;32m/tmp/ipykernel_100885/2155456157.py\u001b[0m in \u001b[0;36mget_datas\u001b[0;34m(self)\u001b[0m\n\u001b[1;32m     13\u001b[0m         \u001b[0my\u001b[0m \u001b[0;34m=\u001b[0m \u001b[0mself\u001b[0m\u001b[0;34m.\u001b[0m\u001b[0my\u001b[0m\u001b[0;34m[\u001b[0m\u001b[0;34m:\u001b[0m\u001b[0;34m,\u001b[0m \u001b[0mnp\u001b[0m\u001b[0;34m.\u001b[0m\u001b[0mnewaxis\u001b[0m\u001b[0;34m]\u001b[0m\u001b[0;34m.\u001b[0m\u001b[0mT\u001b[0m\u001b[0;34m\u001b[0m\u001b[0;34m\u001b[0m\u001b[0m\n\u001b[1;32m     14\u001b[0m \u001b[0;34m\u001b[0m\u001b[0m\n\u001b[0;32m---> 15\u001b[0;31m         \u001b[0;32mreturn\u001b[0m \u001b[0mnp\u001b[0m\u001b[0;34m.\u001b[0m\u001b[0mhstack\u001b[0m\u001b[0;34m(\u001b[0m\u001b[0mx\u001b[0m\u001b[0;34m,\u001b[0m \u001b[0my\u001b[0m\u001b[0;34m)\u001b[0m\u001b[0;34m\u001b[0m\u001b[0;34m\u001b[0m\u001b[0m\n\u001b[0m\u001b[1;32m     16\u001b[0m \u001b[0;34m\u001b[0m\u001b[0m\n\u001b[1;32m     17\u001b[0m \u001b[0;32mdef\u001b[0m \u001b[0mdraw_points\u001b[0m\u001b[0;34m(\u001b[0m\u001b[0mpoint\u001b[0m\u001b[0;34m,\u001b[0m \u001b[0mparams\u001b[0m\u001b[0;34m)\u001b[0m\u001b[0;34m:\u001b[0m\u001b[0;34m\u001b[0m\u001b[0;34m\u001b[0m\u001b[0m\n",
      "\u001b[0;32m<__array_function__ internals>\u001b[0m in \u001b[0;36mhstack\u001b[0;34m(*args, **kwargs)\u001b[0m\n",
      "\u001b[0;31mTypeError\u001b[0m: _vhstack_dispatcher() takes 1 positional argument but 2 were given"
     ]
    }
   ],
   "source": [
    "p = MeanPoint2D((0,0), draw_params[\"point_num\"])\n",
    "p.gen_noisy_data(draw_params[\"sigma\"])\n",
    "x = p.get_datas()\n",
    "x.shape\n",
    "# for i, point in enumerate(mean_points):\n",
    "#     point = MeanPoint2D(point, draw_params[\"point_num\"])\n",
    "#     point.gen_noisy_data(draw_params[\"sigma\"])\n",
    "#     float_datasets.append(point.get_datas())\n",
    "#     drawing_points.append(point)\n",
    "\n",
    "# float_datasets = np.array(float_datasets)"
   ]
  },
  {
   "cell_type": "code",
   "execution_count": null,
   "id": "b09a0ad9",
   "metadata": {},
   "outputs": [],
   "source": []
  }
 ],
 "metadata": {
  "kernelspec": {
   "display_name": "Python 3 (ipykernel)",
   "language": "python",
   "name": "python3"
  },
  "language_info": {
   "codemirror_mode": {
    "name": "ipython",
    "version": 3
   },
   "file_extension": ".py",
   "mimetype": "text/x-python",
   "name": "python",
   "nbconvert_exporter": "python",
   "pygments_lexer": "ipython3",
   "version": "3.9.10"
  }
 },
 "nbformat": 4,
 "nbformat_minor": 5
}
