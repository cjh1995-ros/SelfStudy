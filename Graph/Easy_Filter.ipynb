{
 "cells": [
  {
   "cell_type": "markdown",
   "id": "81277891",
   "metadata": {},
   "source": [
    "# 칼만필터는 어렵지 않아 따라하기\n",
    "\n",
    "1. avg_filter\n",
    "2. mov_avg_filter\n",
    "3. low_pass_filter\n",
    "4. simple_example"
   ]
  },
  {
   "cell_type": "markdown",
   "id": "907e4fcb",
   "metadata": {},
   "source": [
    "## 1. AVG_Filter\n",
    "재귀식: 이전 결과를 재사용하여 값을 계산하는 식\n",
    "재귀식 장점\n",
    "- 이전 결과를 재사용하여 계산 효율이 좋음\n",
    "- 데이터가 많을수록 계산량 차이가 늘어나는 경향(배치식과 비교하여)\n",
    "- 메모리 저장공간 적게 차지함(이전 평균값, 추가 데이터, 데이터 개수)\n",
    "\n",
    "필터 장점\n",
    "- 쉽게 평균값 도출 가능\n",
    "- 데이터가 순차적으로 입력될 경우 효과적임(시간에 따라서!)\n",
    "- 평균을 취함으로써 잡음을 제거할 수 있음."
   ]
  },
  {
   "cell_type": "code",
   "execution_count": 1,
   "id": "38df3e45",
   "metadata": {},
   "outputs": [],
   "source": [
    "import numpy as np\n",
    "import matplotlib.pyplot as plt\n",
    "\n",
    "np.random.seed(0)"
   ]
  },
  {
   "cell_type": "code",
   "execution_count": 2,
   "id": "1e553800",
   "metadata": {},
   "outputs": [],
   "source": [
    "def avg_filter(k, x_meas, x_avg):\n",
    "    alpha = (k-1)/k\n",
    "    x_avg = alpha * x_avg + (1 - alpha) * x_meas\n",
    "    return x_avg"
   ]
  },
  {
   "cell_type": "code",
   "execution_count": 3,
   "id": "b295e6a8",
   "metadata": {},
   "outputs": [],
   "source": [
    "def get_volt():\n",
    "    v = np.random.normal(0, 4)\n",
    "    volt_mean = 14.4\n",
    "    volt_meas = volt_mean + v\n",
    "    return volt_meas"
   ]
  },
  {
   "cell_type": "code",
   "execution_count": 4,
   "id": "d5166b4a",
   "metadata": {},
   "outputs": [],
   "source": [
    "# 전체 시간과 측정 hz 정의\n",
    "time_end = 10\n",
    "dt = 0.2"
   ]
  },
  {
   "cell_type": "code",
   "execution_count": 5,
   "id": "aa8840bb",
   "metadata": {},
   "outputs": [],
   "source": [
    "time = np.arange(0, time_end, dt)\n",
    "n_samples = len(time)\n",
    "x_meas_save = np.zeros(n_samples)\n",
    "x_avg_save = np.zeros(n_samples)"
   ]
  },
  {
   "cell_type": "code",
   "execution_count": 7,
   "id": "fb938e49",
   "metadata": {},
   "outputs": [],
   "source": [
    "x_avg = 0\n",
    "\n",
    "for i in range(n_samples):\n",
    "    k = i + 1\n",
    "    x_meas = get_volt()\n",
    "    x_avg = avg_filter(k, x_meas, x_avg)\n",
    "    \n",
    "    x_meas_save[i] = x_meas\n",
    "    x_avg_save[i] = x_avg"
   ]
  },
  {
   "cell_type": "code",
   "execution_count": 11,
   "id": "a43e92d9",
   "metadata": {},
   "outputs": [
    {
     "data": {
      "image/png": "[encoded data removed]",
      "text/plain": [
       "<Figure size 432x288 with 1 Axes>"
      ]
     },
     "metadata": {
      "needs_background": "light"
     },
     "output_type": "display_data"
    }
   ],
   "source": [
    "plt.plot(time, x_meas_save, 'r.', label='measurement')\n",
    "plt.plot(time, x_avg_save, 'b', label='average')\n",
    "plt.title('Average Filter')\n",
    "plt.xlabel('time(sec)')\n",
    "plt.ylabel('volt(V)')\n",
    "plt.legend()\n",
    "plt.show()"
   ]
  },
  {
   "cell_type": "markdown",
   "id": "4eca85a2",
   "metadata": {},
   "source": [
    "## Moving AVG Filter\n",
    "이동평균 필터: 증권가에서 주로 사용\n",
    "\n",
    "이동평균의 재귀식\n",
    "- 평균을 취하면 데이터 잡음 제거는 가능. 하지만 측정하려는 물리량이 시간에 따라 변한다면, 전체 평균을 취하는 것은 적절치 않음.\n",
    "- 전체 평균은 데이터의 동적인 변화를 없애기 때문\n",
    "- 이동평균은 잡음을 없애는 동시에 시스템의 동적 변화를 반영함.\n",
    "- 지정된 개수의 최근 측정값만 가지고 계산한 평균\n",
    "- 새로 데이터가 들어오면 가장 오래된 데이터는 버리는 방식 취함. (큐)\n",
    "\n",
    "이동평균 필터 함수\n",
    "- 이동평균은 계산의 이점은 별로 없음.\n",
    "- n개의 최근 데이터가 모두 보관되어야 하고, 입력마다 갱신되어야 하므로 메모리 공간절약 이점도 없음\n",
    "- 배치식과 재귀식 모두 구현"
   ]
  },
  {
   "cell_type": "code",
   "execution_count": 13,
   "id": "253d7872",
   "metadata": {},
   "outputs": [],
   "source": [
    "def mv_avg_filter(x_n, x_meas):\n",
    "    n = len(x_n)\n",
    "    # 왼쪽으로 shift\n",
    "    for i in range(n-1):\n",
    "        x_n[i] = x_n[i+1]\n",
    "    # 맨 마지막에 추가\n",
    "    x_n[n-1] = x_meas\n",
    "    x_avg = np.mean(x_n)\n",
    "    return x_avg, x_n"
   ]
  },
  {
   "cell_type": "code",
   "execution_count": 14,
   "id": "0cf142d5",
   "metadata": {},
   "outputs": [],
   "source": [
    "from scipy import io\n",
    "input_file = '../source/2.MovAvgFilter/SonarAlt.mat'\n",
    "input_mat = io.loadmat(input_file)"
   ]
  },
  {
   "cell_type": "code",
   "execution_count": 15,
   "id": "535ba21f",
   "metadata": {},
   "outputs": [],
   "source": [
    "def get_sonar(i):\n",
    "    z = input_mat['sonarAlt'][0][i]\n",
    "    return z"
   ]
  },
  {
   "cell_type": "code",
   "execution_count": 16,
   "id": "3f24ab73",
   "metadata": {},
   "outputs": [],
   "source": [
    "n = 10\n",
    "n_samples = 500\n",
    "time_end = 10"
   ]
  },
  {
   "cell_type": "code",
   "execution_count": 17,
   "id": "187e04eb",
   "metadata": {},
   "outputs": [],
   "source": [
    "dt = time_end/ n_samples\n",
    "time = np.arange(0, time_end, dt)\n",
    "x_meas_save = np.zeros(n_samples)\n",
    "x_avg_save = np.zeros(n_samples)"
   ]
  },
  {
   "cell_type": "code",
   "execution_count": 18,
   "id": "33bb409a",
   "metadata": {},
   "outputs": [],
   "source": [
    "for i in range(n_samples):\n",
    "    x_meas = get_sonar(i)\n",
    "    if i == 0:\n",
    "        x_avg, x_n = x_meas, x_meas * np.ones(n)\n",
    "    else:\n",
    "        x_avg, x_n = mv_avg_filter(x_n, x_meas)\n",
    "    \n",
    "    x_meas_save[i] = x_meas\n",
    "    x_avg_save[i] = x_avg"
   ]
  },
  {
   "cell_type": "code",
   "execution_count": 19,
   "id": "22009946",
   "metadata": {},
   "outputs": [
    {
     "data": {
      "image/png": "[encoded data removed]",
      "text/plain": [
       "<Figure size 432x288 with 1 Axes>"
      ]
     },
     "metadata": {
      "needs_background": "light"
     },
     "output_type": "display_data"
    }
   ],
   "source": [
    "plt.plot(time, x_meas_save, 'r.', label='measurement')\n",
    "plt.plot(time, x_avg_save, 'b', label='average')\n",
    "plt.title('Average Filter')\n",
    "plt.xlabel('time(sec)')\n",
    "plt.ylabel('Sonar(V)')\n",
    "plt.legend()\n",
    "plt.show()"
   ]
  },
  {
   "cell_type": "markdown",
   "id": "31687643",
   "metadata": {},
   "source": [
    "## 3. Low-pass filter\n",
    "저주파 통과 필터\n",
    "\n",
    "이동평균의 한계\n",
    "- 모든데이터에 **동일가중치** 부여함\n",
    "- 최신 측정값(데이터)이 현재값과 비슷할 가능성이 높으나, **오래된 데이터와 동일 가중치 처리**\n",
    "- 이동평균필터를 사용할 때는 장점과 한계 정확히 알고 적재적소 적용하는 것이 중요\n",
    "\n",
    "1차 저주파 통과 필터\n",
    "- 최근 측정값에는 높은 가중치, 오래된 값에는 낮은 가중치를 주는 필터\n",
    "- 재귀식\n",
    "    - alpha는 0~1인 임의의 상수\n",
    "    - 저주파 통과 필터의 x hat k 는 평균과 관련없음, '추정값' 이라는 용어로 사용\n",
    "    - 더 오래된 값에 더 낮은 가중치 부여함\n",
    "- 측정 데이터에 곱해진 계수 a * (1 - a)와 (1 - a) 크기 비교\n",
    "- 지수가중(exponentially weighted) 필터라고도 부름"
   ]
  },
  {
   "cell_type": "code",
   "execution_count": 25,
   "id": "1889f191",
   "metadata": {},
   "outputs": [],
   "source": [
    "def low_pass_filter(x_meas, x_esti):\n",
    "    x_esti = alpha * x_esti + (1 - alpha) * x_meas\n",
    "    return x_esti"
   ]
  },
  {
   "cell_type": "code",
   "execution_count": 34,
   "id": "310a866d",
   "metadata": {},
   "outputs": [],
   "source": [
    "# Change Alpha!\n",
    "alpha = 0.9\n",
    "n_samples = 500\n",
    "time_end = 10"
   ]
  },
  {
   "cell_type": "code",
   "execution_count": 35,
   "id": "94c2ebb4",
   "metadata": {},
   "outputs": [],
   "source": [
    "dt = time_end / n_samples\n",
    "time = np.arange(0, time_end, dt)\n",
    "x_meas_save = np.zeros(n_samples)\n",
    "x_esti_save = np.zeros(n_samples)"
   ]
  },
  {
   "cell_type": "code",
   "execution_count": 36,
   "id": "dc19d4be",
   "metadata": {},
   "outputs": [],
   "source": [
    "x_esti = None\n",
    "for i in range(n_samples):\n",
    "    x_meas = get_sonar(i)\n",
    "    if i == 0:\n",
    "        x_esti = x_meas\n",
    "    else:\n",
    "        x_esti = low_pass_filter(x_meas, x_esti)\n",
    "    \n",
    "    x_meas_save[i] = x_meas\n",
    "    x_esti_save[i] = x_esti"
   ]
  },
  {
   "cell_type": "code",
   "execution_count": 37,
   "id": "3ec058a2",
   "metadata": {},
   "outputs": [
    {
     "data": {
      "image/png": "[encoded data removed]",
      "text/plain": [
       "<Figure size 432x288 with 1 Axes>"
      ]
     },
     "metadata": {
      "needs_background": "light"
     },
     "output_type": "display_data"
    }
   ],
   "source": [
    "plt.plot(time, x_meas_save, 'r*', label='Measured')\n",
    "plt.plot(time, x_esti_save, 'b-', label='Low-pass Filter')\n",
    "plt.legend(loc='upper left')\n",
    "plt.title('Measured Altitudes v.s. LPF Values')\n",
    "plt.xlabel('Time [sec]')\n",
    "plt.ylabel('Altitude [m]')\n",
    "plt.show()"
   ]
  },
  {
   "attachments": {},
   "cell_type": "markdown",
   "id": "ca5cdf80",
   "metadata": {},
   "source": [
    "## Kalman Filter"
   ]
  },
  {
   "cell_type": "code",
   "execution_count": 57,
   "id": "b5376a46",
   "metadata": {},
   "outputs": [],
   "source": [
    "def get_volt():\n",
    "    \"\"\"Measure voltage\"\"\"\n",
    "    v = np.random.normal(0,4)     # v: measurement noise\n",
    "    volt_true = 14.4              # volt_true: True voltage\n",
    "    z_volt_meas = volt_true + v   # z_volt_meas: Measured Voltage[V] (observable)\n",
    "    return z_volt_meas"
   ]
  },
  {
   "cell_type": "code",
   "execution_count": 58,
   "id": "d544335d",
   "metadata": {},
   "outputs": [],
   "source": [
    "# Initialization system model\n",
    "A = 1\n",
    "H = 1\n",
    "Q = 0\n",
    "R = 4\n",
    "\n",
    "def kalman_filter(z_meas, x_esti, P):\n",
    "    global A, H, Q, R\n",
    "    \"\"\"Kalman Filter Algorithm for One Variable\"\"\"\n",
    "    # (1) Prediction\n",
    "    x_pred = A * x_esti\n",
    "    P_pred = A * P * A + Q\n",
    "    \n",
    "    # (2) Kalman Gain\n",
    "    K = P_pred * H / (H * P_pred * H + R)\n",
    "    \n",
    "    # (3) Estimation\n",
    "    x_esti = x_pred + K * (z_meas - H * x_pred)\n",
    "    \n",
    "    # (4) Error Covariance\n",
    "    P = P_pred - K * H * P_pred\n",
    "    \n",
    "    return x_esti, P"
   ]
  },
  {
   "cell_type": "code",
   "execution_count": 59,
   "id": "96000e19",
   "metadata": {},
   "outputs": [],
   "source": [
    "time_end = 10\n",
    "dt = 0.2"
   ]
  },
  {
   "cell_type": "code",
   "execution_count": 60,
   "id": "754e7bf8",
   "metadata": {},
   "outputs": [],
   "source": [
    "# Initialization for estimation\n",
    "x_0 = 10\n",
    "P_0 = 6"
   ]
  },
  {
   "cell_type": "code",
   "execution_count": 61,
   "id": "271a953a",
   "metadata": {},
   "outputs": [],
   "source": [
    "time = np.arange(0, time_end, dt)\n",
    "n_samples = len(time)\n",
    "volt_meas_save = np.zeros(n_samples)\n",
    "volt_esti_save = np.zeros(n_samples)"
   ]
  },
  {
   "cell_type": "code",
   "execution_count": 62,
   "id": "bf368727",
   "metadata": {},
   "outputs": [],
   "source": [
    "x_esti,P = None, None\n",
    "\n",
    "for i in range(n_samples):\n",
    "    z_meas = get_volt()\n",
    "    if i == 0:\n",
    "        x_esti, P = x_0, P_0\n",
    "    else:\n",
    "        x_esti, P = kalman_filter(z_meas, x_esti, P)\n",
    "    \n",
    "    volt_meas_save[i] = z_meas\n",
    "    volt_esti_save[i] = x_esti"
   ]
  },
  {
   "cell_type": "code",
   "execution_count": 63,
   "id": "36bf303c",
   "metadata": {},
   "outputs": [
    {
     "data": {
      "image/png": "[encoded data removed]",
      "text/plain": [
       "<Figure size 432x288 with 1 Axes>"
      ]
     },
     "metadata": {
      "needs_background": "light"
     },
     "output_type": "display_data"
    }
   ],
   "source": [
    "plt.plot(time, volt_meas_save, 'r*', label='Measured')\n",
    "plt.plot(time, volt_esti_save, 'b-', label='Low-pass Filter')\n",
    "plt.legend(loc='upper left')\n",
    "plt.title('Measured Altitudes v.s. LPF Values')\n",
    "plt.xlabel('Time [sec]')\n",
    "plt.ylabel('Altitude [m]')\n",
    "plt.show()"
   ]
  },
  {
   "cell_type": "code",
   "execution_count": null,
   "id": "7ca7efcc",
   "metadata": {},
   "outputs": [],
   "source": []
  }
 ],
 "metadata": {
  "kernelspec": {
   "display_name": "Python 3 (ipykernel)",
   "language": "python",
   "name": "python3"
  },
  "language_info": {
   "codemirror_mode": {
    "name": "ipython",
    "version": 3
   },
   "file_extension": ".py",
   "mimetype": "text/x-python",
   "name": "python",
   "nbconvert_exporter": "python",
   "pygments_lexer": "ipython3",
   "version": "3.8.10"
  }
 },
 "nbformat": 4,
 "nbformat_minor": 5
}
